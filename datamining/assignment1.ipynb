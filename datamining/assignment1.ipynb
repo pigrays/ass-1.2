{
 "cells": [
  {
   "cell_type": "code",
   "execution_count": 15,
   "id": "ee31bfd6",
   "metadata": {},
   "outputs": [],
   "source": [
    "import pandas as pd\n",
    "import numpy as np\n",
    "from sklearn.model_selection import train_test_split\n",
    "from sklearn.ensemble import RandomForestClassifier\n",
    "from sklearn.tree import DecisionTreeClassifier\n",
    "from sklearn.linear_model import LogisticRegression\n",
    "from sklearn.preprocessing import StandardScaler\n",
    "model = LogisticRegression(max_iter=100000)\n",
    "from sklearn.metrics import accuracy_score, precision_score, recall_score, f1_score\n",
    "from statsmodels.stats.contingency_tables import mcnemar\n",
    "from sklearn.preprocessing import LabelEncoder, StandardScaler\n",
    "import time\n",
    "from sklearn.datasets import load_iris"
   ]
  },
  {
   "cell_type": "code",
   "execution_count": 17,
   "id": "83615a90",
   "metadata": {},
   "outputs": [
    {
     "name": "stdout",
     "output_type": "stream",
     "text": [
      "       age          workclass  fnlwgt    education  education_num  \\\n",
      "0       39          State-gov   77516    Bachelors             13   \n",
      "1       50   Self-emp-not-inc   83311    Bachelors             13   \n",
      "2       38            Private  215646      HS-grad              9   \n",
      "3       53            Private  234721         11th              7   \n",
      "4       28            Private  338409    Bachelors             13   \n",
      "...    ...                ...     ...          ...            ...   \n",
      "32556   27            Private  257302   Assoc-acdm             12   \n",
      "32557   40            Private  154374      HS-grad              9   \n",
      "32558   58            Private  151910      HS-grad              9   \n",
      "32559   22            Private  201490      HS-grad              9   \n",
      "32560   52       Self-emp-inc  287927      HS-grad              9   \n",
      "\n",
      "            marital_status          occupation    relationship    race  \\\n",
      "0            Never-married        Adm-clerical   Not-in-family   White   \n",
      "1       Married-civ-spouse     Exec-managerial         Husband   White   \n",
      "2                 Divorced   Handlers-cleaners   Not-in-family   White   \n",
      "3       Married-civ-spouse   Handlers-cleaners         Husband   Black   \n",
      "4       Married-civ-spouse      Prof-specialty            Wife   Black   \n",
      "...                    ...                 ...             ...     ...   \n",
      "32556   Married-civ-spouse        Tech-support            Wife   White   \n",
      "32557   Married-civ-spouse   Machine-op-inspct         Husband   White   \n",
      "32558              Widowed        Adm-clerical       Unmarried   White   \n",
      "32559        Never-married        Adm-clerical       Own-child   White   \n",
      "32560   Married-civ-spouse     Exec-managerial            Wife   White   \n",
      "\n",
      "           sex  capital_gain  capital_loss  hours_per_week  native_country  \\\n",
      "0         Male          2174             0              40   United-States   \n",
      "1         Male             0             0              13   United-States   \n",
      "2         Male             0             0              40   United-States   \n",
      "3         Male             0             0              40   United-States   \n",
      "4       Female             0             0              40            Cuba   \n",
      "...        ...           ...           ...             ...             ...   \n",
      "32556   Female             0             0              38   United-States   \n",
      "32557     Male             0             0              40   United-States   \n",
      "32558   Female             0             0              40   United-States   \n",
      "32559     Male             0             0              20   United-States   \n",
      "32560   Female         15024             0              40   United-States   \n",
      "\n",
      "       income  \n",
      "0       <=50K  \n",
      "1       <=50K  \n",
      "2       <=50K  \n",
      "3       <=50K  \n",
      "4       <=50K  \n",
      "...       ...  \n",
      "32556   <=50K  \n",
      "32557    >50K  \n",
      "32558   <=50K  \n",
      "32559   <=50K  \n",
      "32560    >50K  \n",
      "\n",
      "[32561 rows x 15 columns]\n"
     ]
    }
   ],
   "source": [
    "#read data and assign attribute according to the description on the website\n",
    "column_names = ['age', 'workclass', 'fnlwgt', 'education', 'education_num', 'marital_status', \n",
    "                'occupation', 'relationship', 'race', 'sex', 'capital_gain', 'capital_loss', \n",
    "                'hours_per_week', 'native_country', 'income']\n",
    "data = pd.read_csv('adult.data', header=None, names=column_names)\n",
    "\n",
    "# check few rows\n",
    "print(data)"
   ]
  },
  {
   "cell_type": "code",
   "execution_count": 18,
   "id": "ccb11db8",
   "metadata": {},
   "outputs": [
    {
     "name": "stdout",
     "output_type": "stream",
     "text": [
      "            age  workclass    fnlwgt  education  education_num  \\\n",
      "0      0.042796          5 -1.062722          9       1.128918   \n",
      "1      0.880288          4 -1.007871          9       1.128918   \n",
      "2     -0.033340          2  0.244693         11      -0.439738   \n",
      "3      1.108695          2  0.425240          1      -1.224066   \n",
      "4     -0.794697          2  1.406658          9       1.128918   \n",
      "...         ...        ...       ...        ...            ...   \n",
      "32556 -0.870832          2  0.638972          7       0.736754   \n",
      "32557  0.118931          2 -0.335252         11      -0.439738   \n",
      "32558  1.489374          2 -0.358575         11      -0.439738   \n",
      "32559 -1.251511          2  0.110705         11      -0.439738   \n",
      "32560  1.032559          3  0.928841         11      -0.439738   \n",
      "\n",
      "       marital_status  occupation  relationship  race  sex  capital_gain  \\\n",
      "0                   4           0             1     4    1      0.146092   \n",
      "1                   2           3             0     4    1     -0.147445   \n",
      "2                   0           5             1     4    1     -0.147445   \n",
      "3                   2           5             0     2    1     -0.147445   \n",
      "4                   2           9             5     2    0     -0.147445   \n",
      "...               ...         ...           ...   ...  ...           ...   \n",
      "32556               2          12             5     4    0     -0.147445   \n",
      "32557               2           6             0     4    1     -0.147445   \n",
      "32558               6           0             4     4    0     -0.147445   \n",
      "32559               4           0             3     4    1     -0.147445   \n",
      "32560               2           3             5     4    0      1.881120   \n",
      "\n",
      "       capital_loss  hours_per_week  native_country  income  \n",
      "0         -0.218586       -0.077734              38       0  \n",
      "1         -0.218586       -2.331531              38       0  \n",
      "2         -0.218586       -0.077734              38       0  \n",
      "3         -0.218586       -0.077734              38       0  \n",
      "4         -0.218586       -0.077734               4       0  \n",
      "...             ...             ...             ...     ...  \n",
      "32556     -0.218586       -0.244682              38       0  \n",
      "32557     -0.218586       -0.077734              38       1  \n",
      "32558     -0.218586       -0.077734              38       0  \n",
      "32559     -0.218586       -1.747213              38       0  \n",
      "32560     -0.218586       -0.077734              38       1  \n",
      "\n",
      "[30162 rows x 15 columns]\n"
     ]
    }
   ],
   "source": [
    "# Handle missing values\n",
    "data = data.replace(' ?',np.nan)  # replace \"?\" with NaN\n",
    "data = data.dropna()  # drop rows with missing values\n",
    "\n",
    "# Encode categorical variables\n",
    "categorical_cols = ['workclass', 'education', 'marital_status', 'occupation', 'relationship', 'race', 'sex', 'native_country','income']\n",
    "encoder = LabelEncoder()\n",
    "for col in categorical_cols:\n",
    "    data[col] = encoder.fit_transform(data[col])\n",
    "\n",
    "# Scale numeric variables\n",
    "numeric_cols = ['age', 'fnlwgt', 'education_num', 'capital_gain', 'capital_loss', 'hours_per_week']\n",
    "scaler = StandardScaler()\n",
    "data[numeric_cols] = scaler.fit_transform(data[numeric_cols])\n",
    "\n",
    "# Save the cleaned and preprocessed data to a new CSV file\n",
    "data.to_csv('preprocessed_adult.csv', index=False)\n",
    "print(data)"
   ]
  },
  {
   "cell_type": "code",
   "execution_count": 24,
   "id": "d79c9cdb",
   "metadata": {},
   "outputs": [
    {
     "name": "stdout",
     "output_type": "stream",
     "text": [
      "Random Forest:\n",
      "Accuracy: 0.85545364128633\n",
      "Precision: 0.7520703933747412\n",
      "Recall: 0.6367221735319895\n",
      "F1 Score: 0.6896060749881348\n",
      "Training time: 1.31 seconds\n"
     ]
    }
   ],
   "source": [
    "iris = load_iris()\n",
    "X, y = iris.data, iris.target\n",
    "\n",
    "start_time = time.time()\n",
    "# Split the data\n",
    "X = data.drop(['income'], axis=1)\n",
    "y = data['income']\n",
    "X_train, X_test, y_train, y_test = train_test_split(X, y, test_size=0.3, random_state=42)\n",
    "\n",
    "# Train the models\n",
    "rf_model = RandomForestClassifier(random_state=42)\n",
    "rf_model.fit(X_train, y_train)\n",
    "\n",
    "# Evaluate the models\n",
    "rf_pred = rf_model.predict(X_test)\n",
    "\n",
    "end_time = time.time()\n",
    "print('Random Forest:')\n",
    "print('Accuracy:', accuracy_score(y_test, rf_pred))\n",
    "print('Precision:', precision_score(y_test, rf_pred))\n",
    "print('Recall:', recall_score(y_test, rf_pred))\n",
    "print('F1 Score:', f1_score(y_test, rf_pred))\n",
    "# Calculate the time difference and print it\n",
    "training_time = end_time - start_time\n",
    "print(\"Training time: %.2f seconds\" % training_time)\n"
   ]
  },
  {
   "cell_type": "code",
   "execution_count": 26,
   "id": "e5df3d66",
   "metadata": {},
   "outputs": [
    {
     "name": "stdout",
     "output_type": "stream",
     "text": [
      "Logistic Regression:\n",
      "Accuracy: 0.8188750138136811\n",
      "Precision: 0.7237299930410578\n",
      "Recall: 0.45574057843996496\n",
      "F1 Score: 0.5592901317558483\n",
      "Training time: 0.16 seconds\n"
     ]
    }
   ],
   "source": [
    "iris = load_iris()\n",
    "X, y = iris.data, iris.target\n",
    "\n",
    "start_time = time.time()\n",
    "# Split the data\n",
    "X = data.drop(['income'], axis=1)\n",
    "y = data['income']\n",
    "X_train, X_test, y_train, y_test = train_test_split(X, y, test_size=0.3, random_state=42)\n",
    "\n",
    "# Train the models\n",
    "lr_model = LogisticRegression(solver='sag',random_state=42)\n",
    "lr_model.fit(X_train, y_train)\n",
    "\n",
    "# Evaluate the models\n",
    "lr_pred = lr_model.predict(X_test)\n",
    "\n",
    "end_time = time.time()\n",
    "print('Logistic Regression:')\n",
    "print('Accuracy:', accuracy_score(y_test, lr_pred))\n",
    "print('Precision:', precision_score(y_test, lr_pred))\n",
    "print('Recall:', recall_score(y_test, lr_pred))\n",
    "print('F1 Score:', f1_score(y_test, lr_pred))\n",
    "training_time = end_time - start_time\n",
    "print('Training time: %.2f seconds' % training_time)"
   ]
  },
  {
   "cell_type": "code",
   "execution_count": null,
   "id": "e4eff16e",
   "metadata": {},
   "outputs": [],
   "source": []
  }
 ],
 "metadata": {
  "kernelspec": {
   "display_name": "Python 3 (ipykernel)",
   "language": "python",
   "name": "python3"
  },
  "language_info": {
   "codemirror_mode": {
    "name": "ipython",
    "version": 3
   },
   "file_extension": ".py",
   "mimetype": "text/x-python",
   "name": "python",
   "nbconvert_exporter": "python",
   "pygments_lexer": "ipython3",
   "version": "3.9.12"
  }
 },
 "nbformat": 4,
 "nbformat_minor": 5
}
